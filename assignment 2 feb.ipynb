{
 "cells": [
  {
   "cell_type": "code",
   "execution_count": 1,
   "id": "834e513c-ce85-492e-9e9f-c7f65eab967a",
   "metadata": {},
   "outputs": [
    {
     "name": "stdout",
     "output_type": "stream",
     "text": [
      "1\n",
      "2\n",
      "3\n",
      "4\n"
     ]
    }
   ],
   "source": [
    "# Ans1. A for loop is used to iterate over a sequence or other iterable object and execute a block of code for each element in the sequence. for example\n",
    "l = [1,2,3,4]\n",
    "for i in l:\n",
    "    print(i)\n",
    "    "
   ]
  },
  {
   "cell_type": "code",
   "execution_count": 2,
   "id": "652d6767-af94-47b0-b547-8984b0da3a91",
   "metadata": {},
   "outputs": [
    {
     "name": "stdout",
     "output_type": "stream",
     "text": [
      "1\n",
      "2\n",
      "3\n",
      "4\n",
      "5\n",
      "6\n",
      "7\n",
      "8\n",
      "9\n",
      "10\n"
     ]
    }
   ],
   "source": [
    "#a while loop is used to repeat a block of code as long as a specified condition is met. for example\n",
    "i = 1\n",
    "while i <= 10:\n",
    "    print(i)\n",
    "    i = i+1\n"
   ]
  },
  {
   "cell_type": "code",
   "execution_count": 3,
   "id": "50505de0-3763-4eeb-bed9-ee4944aba93d",
   "metadata": {},
   "outputs": [
    {
     "name": "stdout",
     "output_type": "stream",
     "text": [
      "sum of first 10 natural number is 55\n"
     ]
    }
   ],
   "source": [
    "#Ans 2. using for loop function finding sum of first 10 natural numbers\n",
    "sum = 0\n",
    "for i in range(1,11):\n",
    "    sum = sum + i\n",
    "print(\"sum of first 10 natural number is\", sum)"
   ]
  },
  {
   "cell_type": "code",
   "execution_count": 4,
   "id": "1f3cce50-0b9b-4def-b5de-6e2a45aa87d6",
   "metadata": {},
   "outputs": [
    {
     "name": "stdout",
     "output_type": "stream",
     "text": [
      "product is 3628800\n"
     ]
    }
   ],
   "source": [
    "# using for loop function finding product of first 10 natural numbers\n",
    "product = 1\n",
    "for i in range(1,11) :\n",
    "    product = product*i\n",
    "print(\"product is\", product)\n"
   ]
  },
  {
   "cell_type": "code",
   "execution_count": 5,
   "id": "75502960-eb3e-4230-9a7c-e91ebb2041a2",
   "metadata": {},
   "outputs": [
    {
     "name": "stdout",
     "output_type": "stream",
     "text": [
      "sum is 55\n"
     ]
    }
   ],
   "source": [
    "# using while loop function finding sum of first 10 natural numbers\n",
    "sum = 0\n",
    "counter = 1\n",
    "while counter <= 10:\n",
    "    sum = sum + counter\n",
    "    counter = counter + 1\n",
    "print(\"sum is\", sum)"
   ]
  },
  {
   "cell_type": "code",
   "execution_count": 6,
   "id": "6f8c9b99-2e67-441a-81d7-f390109a8554",
   "metadata": {},
   "outputs": [
    {
     "name": "stdout",
     "output_type": "stream",
     "text": [
      "product is 3628800\n"
     ]
    }
   ],
   "source": [
    "# using while loop function finding product of first 10 natural numbers\n",
    "product = 1\n",
    "counter = 1\n",
    "while counter <= 10:\n",
    "    product = product * counter\n",
    "    counter = counter + 1\n",
    "print(\"product is\", product)"
   ]
  },
  {
   "cell_type": "code",
   "execution_count": 7,
   "id": "a07e77aa-ae41-4048-bc13-87fac636a478",
   "metadata": {},
   "outputs": [
    {
     "name": "stdin",
     "output_type": "stream",
     "text": [
      "units of electricity consumed in a month from the user 310\n"
     ]
    },
    {
     "name": "stdout",
     "output_type": "stream",
     "text": [
      "total electricity bill is Rs. 2250.0\n"
     ]
    }
   ],
   "source": [
    "# Ans 3.\n",
    "units = int(input(\"units of electricity consumed in a month from the user\"))\n",
    "if units <= 100:\n",
    "    bill = units * 4.5\n",
    "elif units <= 200:\n",
    "     bill = (100 * 4.5) + ((units - 100)*6)\n",
    "elif units <= 300:\n",
    "     bill = (100 * 4.5) + (100*6) + ((units - 200)*10)\n",
    "else : \n",
    "     bill = (100*4.5)+(100*6)+(100*10)+((units-300)*20)\n",
    "print(\"total electricity bill is Rs.\",bill)"
   ]
  },
  {
   "cell_type": "code",
   "execution_count": 8,
   "id": "63e57681-2c00-4288-9a2e-8ee7f8af56f5",
   "metadata": {},
   "outputs": [
    {
     "name": "stdout",
     "output_type": "stream",
     "text": [
      "numbers whose cube is divisible by 4 or 5 [2, 4, 5, 6, 8, 10, 12, 14, 15, 16, 18, 20, 22, 24, 25, 26, 28, 30, 32, 34, 35, 36, 38, 40, 42, 44, 45, 46, 48, 50, 52, 54, 55, 56, 58, 60, 62, 64, 65, 66, 68, 70, 72, 74, 75, 76, 78, 80, 82, 84, 85, 86, 88, 90, 92, 94, 95, 96, 98, 100]\n"
     ]
    }
   ],
   "source": [
    "# Ans 4. using for loop\n",
    "numbers = []\n",
    "cubes = []\n",
    "for i in range(1,101):\n",
    "    numbers.append(i)\n",
    "    cube = i**3\n",
    "    if cube % 4 == 0 or cube % 5 == 0:\n",
    "        cubes.append(i)\n",
    "print(\"numbers whose cube is divisible by 4 or 5\",cubes)"
   ]
  },
  {
   "cell_type": "code",
   "execution_count": null,
   "id": "67c16b61-1dea-4009-82bd-43994852d278",
   "metadata": {},
   "outputs": [],
   "source": [
    "# using while loop\n",
    "numbers = []\n",
    "cubes = []\n",
    "counter = 1\n",
    "whie"
   ]
  },
  {
   "cell_type": "code",
   "execution_count": 16,
   "id": "858fae3b-11b9-47c6-af1b-1d371a0b7096",
   "metadata": {},
   "outputs": [
    {
     "name": "stdout",
     "output_type": "stream",
     "text": [
      "numbers of vowel is 33\n"
     ]
    }
   ],
   "source": [
    "#Ans 5.\n",
    "string = \"I want to become a data scientist\"\n",
    "vowel = \"aeiouAEIOU\"\n",
    "count = 0\n",
    "for i in string:\n",
    "    i= vowel\n",
    "    count= count+1\n",
    "print(\"numbers of vowel is\", count)"
   ]
  },
  {
   "cell_type": "code",
   "execution_count": null,
   "id": "07cbe276-2072-4958-ab68-81d20569ffe1",
   "metadata": {},
   "outputs": [],
   "source": []
  }
 ],
 "metadata": {
  "kernelspec": {
   "display_name": "Python 3 (ipykernel)",
   "language": "python",
   "name": "python3"
  },
  "language_info": {
   "codemirror_mode": {
    "name": "ipython",
    "version": 3
   },
   "file_extension": ".py",
   "mimetype": "text/x-python",
   "name": "python",
   "nbconvert_exporter": "python",
   "pygments_lexer": "ipython3",
   "version": "3.10.8"
  }
 },
 "nbformat": 4,
 "nbformat_minor": 5
}
